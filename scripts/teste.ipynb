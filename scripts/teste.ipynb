{
 "cells": [
  {
   "cell_type": "code",
   "execution_count": 3,
   "metadata": {},
   "outputs": [
    {
     "name": "stdout",
     "output_type": "stream",
     "text": [
      "arn:aws:dms:us-east-1:222498481656:task:H7OQB3CZMSVV3UABILOONVDFX2A5ICCALGKPUTY\n"
     ]
    }
   ],
   "source": [
    "import boto3\n",
    "import configparser\n",
    "import os\n",
    "\n",
    "# Get the full path to the config.ini file\n",
    "current_dir = os.getcwd()\n",
    "config_file_path = os.path.join(current_dir, \"config\", \"config.ini\")\n",
    "\n",
    "config = configparser.ConfigParser()\n",
    "config.read(config_file_path)\n",
    "\n",
    "\n",
    "# AWS DMS credentials \n",
    "region = config.get(\"DMS\", \"region\")\n",
    "source_arn = config.get(\"DMS\", \"source_arn\")\n",
    "target_arn = config.get(\"DMS\", \"target_arn\")\n",
    "instance_arn = config.get(\"DMS\", \"instance_arn\")\n",
    "task_arn = config.get(\"DMS\", \"task_arn\")\n",
    "\n",
    "print(task_arn)"
   ]
  },
  {
   "cell_type": "code",
   "execution_count": 4,
   "metadata": {},
   "outputs": [
    {
     "data": {
      "text/plain": [
       "str"
      ]
     },
     "execution_count": 4,
     "metadata": {},
     "output_type": "execute_result"
    }
   ],
   "source": [
    "type(task_arn)"
   ]
  },
  {
   "cell_type": "code",
   "execution_count": null,
   "metadata": {},
   "outputs": [],
   "source": []
  }
 ],
 "metadata": {
  "kernelspec": {
   "display_name": "Python 3",
   "language": "python",
   "name": "python3"
  },
  "language_info": {
   "codemirror_mode": {
    "name": "ipython",
    "version": 3
   },
   "file_extension": ".py",
   "mimetype": "text/x-python",
   "name": "python",
   "nbconvert_exporter": "python",
   "pygments_lexer": "ipython3",
   "version": "3.9.6"
  },
  "orig_nbformat": 4
 },
 "nbformat": 4,
 "nbformat_minor": 2
}
